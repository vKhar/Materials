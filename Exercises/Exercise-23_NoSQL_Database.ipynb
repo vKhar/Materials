{
 "cells": [
  {
   "cell_type": "markdown",
   "metadata": {},
   "source": [
    "# Exercise 23\n",
    "\n",
    "Notes:\n",
    "- Chapter_15_NoSQL_Databases\n",
    "\n",
    "[![Open In Colab](https://colab.research.google.com/assets/colab-badge.svg)](https://colab.research.google.com/github/googlecolab/colabtools/blob/master/notebooks/colab-github-demo.ipynb) FIX LINK"
   ]
  },
  {
   "cell_type": "markdown",
   "metadata": {},
   "source": [
    "## Exercise 23.1 2021/DHS/P2/Q4 H2 Computing\n",
    "\n",
    "### Task 1\n",
    "Write a program to help staff of an events company to insert data into a NoSQL database products under the collection balloons.\n",
    "\n",
    "The data is provided for you in `balloons.json` as well as in the table below where the first row are headers for the fields.\n",
    "\n",
    "<center>\n",
    "\n",
    "| `design` | `amount` | `helium` | `colours` | \n",
    "|-|-|-|-|\n",
    "| car | 88 | no | red, yellow |\n",
    "| cloud | 14 | | blue, green |\n",
    "| flower | 75 | yes | red, blue |\n",
    "| bag | 38 | no | red, blue, black |\n",
    "\n",
    "</center>\n",
    "\n",
    "Each colour in `colours` field should be an item in an array. <div style=\"text-align: right\">[6]</div>"
   ]
  },
  {
   "cell_type": "code",
   "execution_count": null,
   "metadata": {},
   "outputs": [],
   "source": [
    "#YOUR_CODE_HERE"
   ]
  },
  {
   "cell_type": "markdown",
   "metadata": {},
   "source": [
    "### Task 2\n",
    "Write code to print the `amount` of the product with the design \"`car`\". <div style=\"text-align: right\">[2]</div>"
   ]
  },
  {
   "cell_type": "code",
   "execution_count": null,
   "metadata": {},
   "outputs": [],
   "source": [
    "#YOUR_CODE_HERE"
   ]
  },
  {
   "cell_type": "markdown",
   "metadata": {},
   "source": [
    "### Task 3\n",
    "Write code to update the field helium to have the value \"no\" for all documents which do not have a field or value for helium. <div style=\"text-align: right\">[3]</div>"
   ]
  },
  {
   "cell_type": "code",
   "execution_count": null,
   "metadata": {},
   "outputs": [],
   "source": [
    "#YOUR_CODE_HERE"
   ]
  },
  {
   "cell_type": "markdown",
   "metadata": {},
   "source": [
    "### Task 4\n",
    "Write code to display the design(s) which do not contain helium and have colours that either contain green or do not contain black. <div style=\"text-align: right\">[3]</div>\n",
    "Run the program."
   ]
  },
  {
   "cell_type": "code",
   "execution_count": null,
   "metadata": {},
   "outputs": [],
   "source": [
    "#YOUR_CODE_HERE"
   ]
  },
  {
   "cell_type": "markdown",
   "metadata": {},
   "source": [
    "## Exercise 23.2 2021/JPJC/P2/Q2 H2 Computing\n",
    "JP Mobile sells mobile phones and manages its inventory using a NoSQL database. Information about the mobile phones is stored in the JSON file `items.JSON`. The following fields are recorded: \n",
    "- brand of mobile phone, \n",
    "- model, \n",
    "- colour(s) available, \n",
    "- price in dollar, \n",
    "- quantity in stock. \n",
    "\n",
    "### Task 5\n",
    "\n",
    "Write program code to import the information from the JSON file into a MongoDB database. Save the information under the `phone` collection in the `jp_mobile` database. Ensure that the collection only stores the information from the JSON file. \n",
    "Save your program code as `TASK4_<your name>_<class>_<index number>.py`. <div style=\"text-align: right\">[4]</div>"
   ]
  },
  {
   "cell_type": "code",
   "execution_count": null,
   "metadata": {},
   "outputs": [],
   "source": [
    "#YOUR_CODE_HERE"
   ]
  },
  {
   "cell_type": "markdown",
   "metadata": {},
   "source": [
    "### Task 6\n",
    "The shop decides to include one or more free gifts for new batches of mobile phones it sells. \n",
    "\n",
    "Write program code for a user to insert information of a mobile phone by getting user input of the following: brand, model, colour, price, quantity, free gift(s). \n",
    "\n",
    "Your code should allow user to input one or more free gifts. \n",
    "\n",
    "If a phone’s brand, model and colour already exists, add the new quantity to the existing quantity in the database, and replace the existing price with the new price. \n",
    "\n",
    "Run your program and insert the following 2 documents: \n",
    "\n",
    "<center>\n",
    "\n",
    "| No. | Brand | Model | Colour | Price | Quantity | Free gift(s) |\n",
    "|-|-|-|-|-|-|-|\n",
    "| 1 | orange | 22 |black|900|11| power bank|\n",
    "| 2| solo|A33|red|1300|7| power bank, earbuds|\n",
    "\n",
    "</center>\n",
    "\n",
    "Add your program code to `TASK4_<your name>_<class>_<index number>.py`   <div style=\"text-align: right\">[7]</div>\n"
   ]
  },
  {
   "cell_type": "code",
   "execution_count": null,
   "metadata": {},
   "outputs": [],
   "source": [
    "#YOUR_CODE_HERE"
   ]
  },
  {
   "cell_type": "markdown",
   "metadata": {},
   "source": [
    "### Task 7\n",
    "\n",
    "Write a function display_all that will display all the information in the phone collection under these fields: brand, model, colour, price, quantity, free gift(s). \n",
    "If no free gift comes with the phone, print a None statement.\n",
    "Include a final statement that shows the total number of documents in the collection. \n",
    "Run the `display_all` function to show your output. \n",
    "Add your program code to `TASK4_<your name>_<class>_<index number>.py`      <div style=\"text-align: right\">[6]</div>"
   ]
  },
  {
   "cell_type": "code",
   "execution_count": null,
   "metadata": {},
   "outputs": [],
   "source": [
    "#YOUR_CODE_HERE"
   ]
  },
  {
   "cell_type": "markdown",
   "metadata": {},
   "source": [
    "### Task 8\n",
    "\n",
    "The shop uses a web browser to display the database content. The manager wants to filter the mobile phones by brand and display the results in a web browser. \n",
    "Write additional Python code and the necessary files to create a web application that \n",
    "- receives a brand string from a HTML form, then \n",
    "- creates and returns a HTML document that enables the web browser to display an ordered list of mobile phones sorted by price. \n",
    "\n",
    "For each document, the web page should include the: \n",
    "- brand as the heading \n",
    "- model, \n",
    "- colour, \n",
    "- price \n",
    "\n",
    "Save your program as \n",
    "`TASK4_4_<your name>_<class>_<index number>.py` \n",
    "with any additional files / sub-folders as needed in a folder named \n",
    "`TASK4_4_<your name>_<class>_<index number>`\n",
    "\n",
    "Run the web application and input brand as ‘solo’ in the webpage.\n",
    "Save the output of the program as \n",
    "`TASK4_4_<your name>_<class>_<index number>.html`      <div style=\"text-align: right\">[12]</div>"
   ]
  },
  {
   "cell_type": "code",
   "execution_count": null,
   "metadata": {},
   "outputs": [],
   "source": [
    "#YOUR_CODE_HERE"
   ]
  },
  {
   "cell_type": "markdown",
   "metadata": {},
   "source": [
    "## Exercise 23.3 2021/NJC/CT/Q1 H2 Computing\n",
    "\n",
    "### Task 9\n",
    "A hierarchical file storage management is to be implented which allows files on a computer to be physically stored in 3 tier of storage:\n",
    "- Tier-1 is an online hard disk drive attached to the computer.\n",
    "- Tier-2 is a online cloud storage provided by a cloud storage provider.\n",
    "- Tier-3 is an offline DVD storage.\n",
    "A file listings of all the files stored on the computer is given in the file, `FILE_LIST.CSV`.\n",
    "Each line contains the **filename**, **time-stamp** and the **size** of the file in bytes.\n",
    "The time-stamp is in the following format : `\"dd/mm/yy HH:MM\"`, where `dd` is the 2 digit day, `mm` is the 2 digit month, `yy` is the 2 digit year and `HH:MM` is the hour and minute in 24 hour format. \n",
    "\n",
    "**For this question assume that the current-time-stamp is `01/06/21 08:15`.**\n",
    "\n",
    "The files provided are `FILE_LIST.CSV`, `TIER_3_UPDATE.CSV`.\n",
    "\n",
    "Write Python code to read the contents of the file `FILE_LIST.CSV` and group the file listings into 3 **Python Lists**, tier-1, tier-2 and tier-3 for processing and then output into 3 files according to the following requirements:\n",
    "\n",
    "<center>\n",
    "\n",
    "|Group | Description | Output|\n",
    "|-|-|-|\n",
    "|Tier 1 files| The last-modified time-stamps on these files must be less than 100 days from the current time-stamp. | The file listings in this group is to be sorted in descending order of the last-modifed time-stamp (latest modified files will appear first in the list) and saved in a file named `TIER-1.CSV`.|\n",
    "|Tier 2 files| The last-modified time-stamps on these files must be greater or equal to 100 days but less than 365 days. | The file listings in this group is to be sorted in descending order of the last-modifed time-stamp (latest modified files will appear first in the list) and saved in a file named `TIER-2.CSV`.|\n",
    "|Tier 3 files| The last-modified time-stamps on these files must be equal or greater then 365 days from the current time-stamp. | The file listings in this group is to be sorted in descending order of the last-modifed time-stamp (latest modified files will appear first in the list) and saved in a file named `TIER-3.CSV`.|\n",
    "\n",
    "</center>\n",
    "\n",
    "The sorting of the file-listings must be done using a quick-sort algorithm. You cannot use any build-in sorting functions. The datetime string format should be in the form `\"dd/mm/yy HH:MM\"` , where `dd` is the 2 digit day, `mm` is the 2 digit month, `yy` is the 2 digit year and `HH:MM` is the hour and minute in 24 hour format.\n",
    "For example the contents of file `TIER-3.CSV` should look like this:\n",
    "\n",
    "```\n",
    "MSysPr9.prx,07/12/19 17:53,316640 \n",
    "DtcInstall.log,07/12/19 17:17,776 \n",
    "Professional.xml,07/12/19 17:10,30831 \n",
    "... \n",
    "pyshellext.amd64.dll,05/12/17 20:42,55456 \n",
    "system.ini,29/09/17 21:44,219 \n",
    "CoreSingleLanguage.xml,29/09/17 21:42,35138 \n",
    "```\n",
    "\n",
    "<div style=\"text-align: right\">[15]</div>"
   ]
  },
  {
   "cell_type": "code",
   "execution_count": null,
   "metadata": {},
   "outputs": [],
   "source": [
    "#YOUR_CODE_HERE"
   ]
  },
  {
   "cell_type": "markdown",
   "metadata": {},
   "source": [
    "### Task 10\n",
    "\n",
    "The file names in the Windows operating system have two parts; the file’s name, then a period followed by the extension (suffix). The extension is an abbreviation that signifies the file type. Extensions are important because they tell your computer what icon to use for the file, and what application can open the file. \n",
    "The following examples show the filenames and their extensions:\n",
    "\n",
    "<center>\n",
    "\n",
    "|File name| File extension|\n",
    "|-|-|\n",
    "|`bootstat.dat` |`dat`|\n",
    "|`pyshellext.amd64.dll` |`dll`|\n",
    "|`Prog.is.fun.pdf` |`pdf`|\n",
    "|`..txt` |`txt`|\n",
    "|`Modules` | `''`(emptystring)|\n",
    "|`.` | `''`(emptystring)|\n",
    "|`''`|`''`(emptystring)||\n",
    "\n",
    "</center>\n",
    "\n",
    "Implement the following function using Python code to extract the file extension from the given file name:\n",
    "> `FUNCTION get_extension(s: STRING) RETURNS STRING`\n",
    "The function must support the test cases in the example file names shown above.\n",
    "<div style=\"text-align: right\">[4]</div>"
   ]
  },
  {
   "cell_type": "code",
   "execution_count": null,
   "metadata": {},
   "outputs": [],
   "source": [
    "#YOUR_CODE_HERE"
   ]
  },
  {
   "cell_type": "markdown",
   "metadata": {},
   "source": [
    "### Task 11\n",
    "\n",
    "A MongoDB database named `file_stats` is to be used to store statistics about the file system. A MongoDB collection named `storage` is to be created to store documents based on the storage tier level. An example of a document in the `storage`\n",
    "collection looks like this:\n",
    "\n",
    "```\n",
    "{ \"storage_tier\" : 1,\n",
    "\" file_count\" : 14,\n",
    "\" file_names\" : [ \"WindowsUpdate.log\", \"bootstat.dat\", \"setupact.log\" , \"PFRO.log\" , \"explorer.exe\", \"notepad.exe \", \"HelpPane.exe\", \"regedit.exe\", \"bfsvc.exe\", \"splwow64.exe\", \"diagerr.xml\" , \"diagwrn.xml\" , \"comsetup.log\", \"setuperr.log\"] ,\n",
    "\" file_types\" : { \"log\" : 5, \"dat\" : 1, \"exe\" : 6, \"xml\" : 2 }\n",
    "}\n",
    "```\n",
    "\n",
    "The description of the attributes used in the document is as follow:\n",
    "\n",
    "<center>\n",
    "\n",
    "|Attribute name| Value description|\n",
    "|-|-|\n",
    "|`storage_tier`| Storage tier number |\n",
    "|`file_count`| Number of files in the storage tier|\n",
    "|`file_names`| List of filenames in the storage tier|\n",
    "|`file_types`| Document object containing the file extensions and the number of files with the file extension in the storage tier. Example in the document shown above, storage_tier 1 has 5 files with extension log|\n",
    "\n",
    "</center>\n",
    "\n",
    "Using the 3 files, `TIER-1.CSV`, `TIER-2.CSV` and `TIER-3.CSV` created in **Task 9** and the function `get_extension` implemented in **Task 10** write Python code to :\n",
    "- create the MongoDB database and collection.\n",
    "- create the documents based on the required statistics given above. "
   ]
  },
  {
   "cell_type": "code",
   "execution_count": null,
   "metadata": {},
   "outputs": [],
   "source": [
    "#YOUR_CODE_HERE"
   ]
  },
  {
   "cell_type": "markdown",
   "metadata": {},
   "source": [
    "### Task 12\n",
    "Assuming that the file `TIER_3_UPDATE.CSV` is generated using the code implementation in **Task 9** at a future date from the current date and time. It contains the file listings for Tier-3 storage.\n",
    "Write Python code to update the MongoDB database that you have created in **Task 11**. You may re-use your code in **Task 9** to Task **11**. <div style=\"text-align: right\">[2]</div>"
   ]
  },
  {
   "cell_type": "code",
   "execution_count": null,
   "metadata": {},
   "outputs": [],
   "source": [
    "#YOUR_CODE_HERE"
   ]
  },
  {
   "cell_type": "markdown",
   "metadata": {},
   "source": [
    "## Exercise 23.4 2021/YIJC/P1/Q5 H2 Computing\n",
    "A rating system for restaurants and other entertainment outlets is to be developed that allows users to view the ratings and access the details of various different entertainment outlets.\n",
    "\n",
    "The raw data for restaurants' ratings is consolidated and stored in a JSON formatted file named `RESTAURANTS.JSON`.\n",
    "\n",
    "The data from the file is to be processed and stored as a **collection** in a MongoDB database.\n",
    "\n",
    "The file provided is `RESTAURANTS.JSON`\n",
    "\n",
    "### Task 13\n",
    "The file `RESTAURANTS.JSON` contains duplicate data. Restaurants having the same name are considered to be duplicates. There are some restaurants that do not have a numerical rating value as they are not yet rated.\n",
    "Write Python code to process the file:\n",
    "- Load the JSON file into a data structure for processing.\n",
    "- Remove the duplicated data.\n",
    "- Restaurants that do not have a numerical rating value yet will have their ratings set to 0.\n",
    "- The processed data structure should be named `restaurants`.  <div style=\"text-align: right\">[3]</div>"
   ]
  },
  {
   "cell_type": "code",
   "execution_count": null,
   "metadata": {},
   "outputs": [],
   "source": [
    "#YOUR_CODE_HERE"
   ]
  },
  {
   "cell_type": "markdown",
   "metadata": {},
   "source": [
    "### Task 14\n",
    "Write the Python code for a sort function named `mergeSort` that uses the merge sort algorithm. The function should take an input argument restaurants obtained in Task 2.1 and sort the restaurants in descending order of their numerical rating values. That means a restaurant with a higher rating should be ordered before a restaurant with a lower rating. The function will return a sorted list of restaurants. <div style=\"text-align: right\">[4]</div>"
   ]
  },
  {
   "cell_type": "code",
   "execution_count": null,
   "metadata": {},
   "outputs": [],
   "source": [
    "#YOUR_CODE_HERE"
   ]
  },
  {
   "cell_type": "markdown",
   "metadata": {},
   "source": [
    "### Task 15\n",
    "Write the Python code to:\n",
    "- Sort the restaurants using the mergeSort function written in Task 2.2.\n",
    "- Print the first 10 restaurants in the sorted list.  <div style=\"text-align: right\">[1]</div>"
   ]
  },
  {
   "cell_type": "code",
   "execution_count": null,
   "metadata": {},
   "outputs": [],
   "source": [
    "#YOUR_CODE_HERE"
   ]
  },
  {
   "cell_type": "markdown",
   "metadata": {},
   "source": [
    "### Task 16\n",
    "Write Python code to\n",
    "- create a MongoDB database named `Entertainment`.\n",
    "- Insert the sorted list of restaurants into a MongoDB collection in the database. <div style=\"text-align: right\">[2]</div>"
   ]
  },
  {
   "cell_type": "code",
   "execution_count": null,
   "metadata": {},
   "outputs": [],
   "source": [
    "#YOUR_CODE_HERE"
   ]
  },
  {
   "cell_type": "markdown",
   "metadata": {},
   "source": [
    "## Exercise 23.5 2021/YIJC/P1/Q5 H2 Computing\n",
    "YI restaurant serves a variety of local dishes at reasonable prices and plans to provide food delivery services to its customers via a web application. A customer places an online order and an employee will be assigned by the system to deliver the order to the customer. The customer can choose to pay online when ordering or make cash payment upon delivery. Customers can choose more than one dish in the same online order and each order has a unique ID.\n",
    "\n",
    "At the time of ordering, the application records the following data: \n",
    "- Customer name, delivery address and email, if the customer has not placed an online order before\n",
    "- Customer ID\n",
    "- Order date\n",
    "- Order time\n",
    "- Payment mode\n",
    "- Dish and quantity\n",
    "\n",
    "The following shows an example of the order receipt which will be sent to the customer’s email address.\n",
    "\n",
    "<center>\n",
    "<img src=\"img/exercise21-pic1.png\" width=\"600\" align=\"center\"/>\n",
    "</center>\n",
    "\n",
    "The restaurant assigns a unique ID to each employee and maintains its employees’ information, such as their name, contact number and bank account number. The restaurant keeps a record of the employees’ delivery assignments, the date and time when the order is successfully delivered to the customer.\n",
    "\n",
    "- (a) The company wants to model this application using a relational database.\n",
    "    - (i) The database needs three tables to store the data for the customers’ food order: `CUSTOMER`, `ORDER` and `FOOD`.\n",
    "            Draw an Entity-Relationship (E-R) diagram showing the three tables and the relationships between them. <div style=\"text-align: right\">[2]</div>\n",
    "    - (ii) The database needs three tables to store the data for the employees’ delivery assignment: `EMPLOYEE`, `ORDER` and `ASSIGNMENT`.\n",
    "            Draw an Entity-Relationship (E-R) diagram showing the three tables and the relationships between them. <div style=\"text-align: right\">[2]</div>\n",
    "    - (iii) Draw the overall Entity-Relationship (E-R) diagram showing the five tables and the relationships between them. <div style=\"text-align: right\">[1]</div>\n",
    "\n",
    "- (b) A table description can be expressed as: \n",
    "        `TableName (Attribute1, Attribute2, Attribute3,...)`\n",
    "        The primary key is indicated by underlining one or more attributes. Foreign keys are indicated using a dashed underline.\n",
    "        Write table descriptions for the five tables. <div style=\"text-align: right\">[6]</div>\n",
    "\n",
    "- (c) Describe a method to protect data from loss or corruption. <div style=\"text-align: right\">[2]</div>\n",
    "\n",
    "- (d) Explain how Singapore’s Personal Data Protection Act (PDPA) protects the personal data of the customers and employees stored in the database. <div style=\"text-align: right\">[2]</div>\n",
    "\n",
    "- (e) Describe the impact of such food delivery applications on the society and economy. <div style=\"text-align: right\">[4]</div>\n",
    "\n",
    "- (f) With an increase in demand for food delivery, the restaurant wishes to enhance the food delivery services to cater to the larger volume of orders and to include more features in the application such as real time location tracking of the food order and customers’ review of the dishes, yet ensuring that the application maintains fast performance. The restaurant is now considering using a NoSQL DBMS instead of a relational database.\n",
    "        State and explain **two** reasons why NoSQL DBMS may be more suitable for the proposed scenario. <div style=\"text-align: right\">[4]</div>"
   ]
  },
  {
   "cell_type": "code",
   "execution_count": null,
   "metadata": {},
   "outputs": [],
   "source": [
    "#YOUR_ANSWER_HERE"
   ]
  },
  {
   "cell_type": "markdown",
   "metadata": {},
   "source": [
    "## Exercise 23.6 2020/NJC/P1/Q4 H2 Computing\n",
    "A Cloud Service vendor  is providing cloud services to its customers on the Internet. The provider intends to design and implement a web portal front end to allow customers to create, access and monitor the cloud services that they have purchased from the vendor. \n",
    "- (a) Explain the difference between a Cloud service and a Web service. <div style=\"text-align: right\">[2]</div>\n",
    "- (b) The Cloud Service vendor intends to provide two type of services, Infrastucture as a Service (IaaS) and Platform as a service (PaaS). Explain the differences between these two services. <div style=\"text-align: right\">[2]</div>\n",
    "\n",
    "The Cloud vendor wants to design the web portal to allow the customers to perform the following functions:\n",
    "- Choose the type of Virtual Machine to create and deploy. A Virtual Machine is a computing resource similar to a physical computer. It allows a customer to install an operating system, install applications and run the applications on the Virtual Machine. There are three types of Virtual Machines the customer can choose to create and deploy:\n",
    "     \n",
    "     <center>\n",
    "\n",
    "     |Type|Resources|Price(USD)|\n",
    "     |-|-|-|\n",
    "     |Economy VM|1 virtual CPU and 4 GB of RAM|$0.005/hour|\n",
    "     |Standard VM|2 virtual CPU and 8 GB of RAM|$0.010/hour|\n",
    "     |Performance VM|4 virtual CPU and 16 GB RAM|$0.020/hour|\n",
    "     \n",
    "     </center>\n",
    "\n",
    "- Choose the number of Virtual Disks that they want to attach to the Virtual Machine and the capacity of each Virtual Disks. The prices of the Virtual Disks are as follows:\n",
    "\n",
    "     <center>\n",
    "\n",
    "     |Type|Size|Price(USD) Per Disk|\n",
    "     |-|-|-|\n",
    "     |Small|256 GB|$10/month\n",
    "     |Medium|512 GB|$20/month\n",
    "     |Large|1TB|$40/month\n",
    "\n",
    "     </center>\n",
    "\n",
    "     Note that a Virtual Machine must have at least one Virtual Disk attached to it. A Virtual Disk cannot be purchased without attaching to a Virtual Machine.\n",
    "\n",
    "- Access the console of the Virtual Machine using a Web interface to perform administrative tasks and to run/stop the Virtual Machine\n",
    "\n",
    "- Instead of choosing to deploy Virtual Machines and Virtual Disks, a customer may instead choose to create one of the following Managed Instances. A Managed Instance will include all the necessary computing and disk resources to run a web application and its database:\n",
    "\n",
    "     <center>\n",
    "\n",
    "     |Instance Type|Resources|Price(USD)|\n",
    "     |-|-|-|\n",
    "     |Python Web Application with SQLite database|20 TPS with 1TB database capacity|$0.20/hour\n",
    "     |PHP Web Application with MySQL Database|20 TPS with 1TB database capacity|$0.25/hour\n",
    "     |ASP.NET Web Application with MS SQL Server|20 TPS with 1TB database capacity|$0.30/hour\n",
    "\n",
    "     </center>\n",
    "     TPS : Transactions per second \n",
    "\n",
    "- Access the console of managed instance to upload the web application code, resources and database contents and to run/stop the managed instance. \n",
    "- Before a customer can create any of the resources (Virtual Machines or Managed Instances), he/she needs to register for an account in the web portal.\n",
    "\n",
    "For both the Virtual machines and Managed instances, the customer can choose to pay a flat fee of $25 per month per Virtual Machine/Managed Instance, to upgrade to a premium service where the vendor will provide a real time back up of the Virtual Machine or Managed Instance image at scheduled intervals. This premium service allowed the customer to perform a full recovery of the Virtual Machine or Managed Instance when needed.\n",
    "\n",
    "At the end of every month, each customer will be billed based on the resources (Virtual Machines/Disk and Managed Instances) that he/she has consumed. Note that a resource is billed based on the **number of hours** (rounded up to the nearest hour), that it has **run** (execute) for the month. A resource that is created but has 0 hour run time for the month is not billable.\n",
    "\n",
    "\n",
    "- (c) Using an Object Oriented Programming approach, model the entities and their relationship described above using UML Class Diagrams. The design must be able to support all the user functions of the web portal described above. You must include appropiate attributes and methods for each class. You do not need to include the data type for the attributes but a full detail descriptiion for every attribute and methods is required. <div style=\"text-align: right\">[10]</div>\n",
    "\n",
    "- (d) Describe and explain how the features of OOP is employed in your desgn. You must include at least two of these features.<div style=\"text-align: right\">[4]</div>\n",
    "\n",
    "- (e) Customers are concerned about data privacy issues when they store data in the cloud. Identify two data privacy issues that the Cloud Service vendor needs to address and how they can be mitigated.<div style=\"text-align: right\">[3]</div>\n",
    "- (f) The cloud vendor wants to provide a NoSQL Database platform in addition to the current Managed Instances services. State two advantages of  using a NoSQL database system over a relational database system  in a Web Application. <div style=\"text-align: right\">[2]</div>\n",
    "\n"
   ]
  },
  {
   "cell_type": "code",
   "execution_count": null,
   "metadata": {},
   "outputs": [],
   "source": [
    "#YOUR_ANSWER_HERE"
   ]
  },
  {
   "cell_type": "markdown",
   "metadata": {},
   "source": [
    "## Exercise 23.7 2020/NYJC/P1/Q5 H2 Computing (Modified)\n",
    "Athletes, who are members of teams, compete in running events, which are held at fixtures throughout the year. For example, athlete 15 might compete in the Girls’ 1500m Under 18 race in the fixture at National Stadium on 12 September 2020.\n",
    "\n",
    "A relational database is used to store the details of which athletes enter each event at each fixture. The relations used in the database are given below.\n",
    "\n",
    "``` Python\n",
    "   Athlete(AthleteID, Surname, Forename, DateOfBirth, Gender, TeamName) \n",
    "   EventType(EventTypeID, Gender, Distance, AgeGroup) \n",
    "   Fixture(FixtureID, FixtureDate, LocationName) \n",
    "   EventAtFixture(FixtureID, EventTypeID) \n",
    "   EventEntry(FixtureID, EventTypeID, AthleteID) \n",
    "```\n",
    "\n",
    "- Each `Athlete`, `EventType` and `Fixture` is identified by a unique identity number, for example `AthleteID` for athletes.\n",
    "- An `EventType` is a type of event, such as Boys’ 100m Under 15 race.\n",
    "- If an athlete wants to take part in an event at a particular fixture, then an entry is created in the `EventEntry` relation to represent this. \n",
    "\n",
    "**Figure 6** below shows an incomplete entity-relationship diagram for part of the database. \n",
    "\n",
    "<center>\n",
    "\n",
    "<img src=\"img/exercise21-pic2.png\" width=\"600\" align=\"center\"/>\n",
    "\n",
    "</center>\n",
    "\n",
    "- (a)  Copy and draw lines on **Figure 6** to show the degree of any three relationships that exist between the four entities shown.<div style=\"text-align: right\">[3]</div>\n",
    "- (b)  The following SQL statement is intended to make a table to represent the Athlete relation. The statement contains some errors. \n",
    "   ```\n",
    "   CREATE TABLE Athlete ( \n",
    "      PRIMARY KEY AthleteID, \n",
    "      VARCHAR(50) Surname, \n",
    "      VARCHAR(30) Forename, \n",
    "      DATE DateOfBirth, \n",
    "      VARCHAR(6) Gender, \n",
    "      VARCHAR(30) TeamName \n",
    "   )\n",
    "   ``` \n",
    "   You may assume that all of the data types used in Figure 7 are valid and the field lengths are  appropriate. State two errors that have been made.<div style=\"text-align: right\">[2]</div>\n",
    "- (c)  State two reasons why database designs, such as this one, are usually normalised. <div style=\"text-align: right\">[2]</div>\n",
    "- (d)  A list is to be produced of the names of all athletes who are competing in the fixture that is taking place on 17/09/20. The list must include the Surname, Forename and DateOfBirth of these athletes and no other details. The list should be presented in alphabetical order by Surname. With reference to the database design shown in Figure 3, write an SQL query to produce the list. <div style=\"text-align: right\">[5]</div>\n",
    "- (e)\tAn IT consultant is suggesting changing to the use of a NoSQL database instead.\n",
    "   - (i) Describe two advantages that a NoSQL database have over a SQL database.<div style=\"text-align: right\">[4]</div>\n",
    "   - (ii) Explain with reasons if you agree or disagree with making the change.<div style=\"text-align: right\">[2]</div>"
   ]
  },
  {
   "cell_type": "code",
   "execution_count": null,
   "metadata": {},
   "outputs": [],
   "source": [
    "#YOUR_ANSWER_HERE"
   ]
  }
 ],
 "metadata": {
  "kernelspec": {
   "display_name": "Python 3.10.2 64-bit",
   "language": "python",
   "name": "python3"
  },
  "language_info": {
   "codemirror_mode": {
    "name": "ipython",
    "version": 3
   },
   "file_extension": ".py",
   "mimetype": "text/x-python",
   "name": "python",
   "nbconvert_exporter": "python",
   "pygments_lexer": "ipython3",
   "version": "3.10.2 (tags/v3.10.2:a58ebcc, Jan 17 2022, 14:12:15) [MSC v.1929 64 bit (AMD64)]"
  },
  "orig_nbformat": 2,
  "vscode": {
   "interpreter": {
    "hash": "a42ccb73e7d9bfdf27e036f1d2b8b681e55fc0743cc5586bc2474d4a60f4b886"
   }
  }
 },
 "nbformat": 4,
 "nbformat_minor": 2
}
