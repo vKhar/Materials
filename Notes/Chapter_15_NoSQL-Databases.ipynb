{
 "cells": [
  {
   "cell_type": "markdown",
   "metadata": {},
   "source": [
    "# Learning Objectives\n",
    "\n",
    "- [ ] 3.3.6 Understand how NoSQL database management system addresses the shortcomings of relational database management system (SQL). \n",
    "- [ ] 3.3.7 Explain the applications of SQL and NoSQL. \n",
    "- [ ] 3.3.8 Use a programming language to work with both SQL and NoSQL databases. \n",
    "\n",
    "# References\n",
    "\n",
    "1. Leadbetter, C., Blackford, R., & Piper, T. (2012). Cambridge international AS and A level computing coursebook. Cambridge: Cambridge University Press.\n",
    "2. https://www.mongodb.com/compare/mongodb-dynamodb\n"
   ]
  },
  {
   "cell_type": "markdown",
   "metadata": {},
   "source": [
    "Recall that a **database** is a collection of related data where all records have the same structure or  collection of data stored in an organised or logical manner.\n",
    "\n",
    "# 15.1 NoSQL databases\n",
    "Relational databases (commonly referred as SQL databases) work well with structured data since each table's **schema** (the precise description of the data to be stored and the relationships between them) is always clearly defined. However, with the \n",
    "increasing number of ways to gather and generate data, we often need to deal with unstructured data. \n",
    "\n",
    "For example, a convenience store that frequently refreshes the services it provides may sell both mobile phones as well as groceries. To run the store, information about both mobile phones (e.g., model names and prices) and groceries (e.g prices and descriptions) need to be stored. In the future, the store may also start selling mobile phone subscription plans as well. Storing all this data in the same relational database may not be easy. In this case, non-relational databases, also referred to as NoSQL databases, can offera better choice.\n",
    "\n",
    "There are four main types of NoSQL databases: \n",
    "- key-value databases. In this databasae, data is stored as a collection of key-value pairs in which a key serves as a unique identifier. E.g. Amazon DynamoDB. In this database, your query is limited to the key **only** and values retrieved by the key are not known (opaque). \n",
    "- document databases. Document databases work like a hash table, but each key can point to an embedded key-value structure, also known as a **document**, instead of just a single value. (Recall that in a hash table, each key points to a single value or data item.). E.g., MongoDB\n",
    "- wide column databases. Data tables are stored in terms of column instead of row. \n",
    "- graph databases are databases that uses graph structures for semantic queries with nodes, edges, and properties to represent and store data. E.g., neo4j\n",
    "\n",
    "# 15.2 Differences between SQL and Document Database\n",
    "\n",
    "- Relational databases have a **fixed, predefined schema** that its tables follows but NoSQL databases usually have **no predefined schema**, which is dynamic and can change easily\n",
    "- Relational databases contain tables while document databases like MongoDB contain collections. The data types of each field in the table is fixed for relational databases but it is flexible for document databases like MongoDB.\n",
    "- Relational databases represent data in tables and rows while document databases store  data as collections of documents.\n",
    "- For relational databases, joins are usually used to get data across tables, while for document databases like MongoDB there is usually no such joins. Thus it is easier to use relational databases for complex queries rather than NoSQL databases."
   ]
  },
  {
   "cell_type": "markdown",
   "metadata": {},
   "source": [
    "# 15.3 MongoDB \n",
    "\n",
    "MongoDB is a very popular NoSQL document database, which uses `JSON` (Java Script Notation Object)-like **documents** to store records.  JSON has the format\n",
    ">```python\n",
    "> {\n",
    ">   <attribute_name_1>: <attribute_values_1>,\n",
    ">   <attribute_name_2>: <attribute_values_2>\n",
    ">                   ....\n",
    "> }\n",
    ">```\n",
    "which looks like python `dict` object. \n",
    "\n",
    "Terminologies used for MongoDB is a little different compared with SQL. Below is the table of terms in MongoDB with corresponding terms in SQL. \n",
    "\n",
    "<center>\n",
    "\n",
    "| **SQL Term** | **MongoDB Term** | \n",
    "|-|-|\n",
    "| `Database` | `Database` | \n",
    "| `Table` | `Collection` | \n",
    "| `Row/Record` | `Document` | \n",
    "| `Column/Field/Attribute` | `Field` |\n",
    "\n",
    "</center>\n",
    "\n",
    "## 15.3.1 Running MongoDB\n",
    "After installation, open command prompt and type `mongo` to run MongoDB shell. To maintain access to the MongoDB databases, you need to **make sure that MongoDB is running**. On Windows machine,  make sure that `mongod.exe` is running on the background. If it isn't, open command prompt as administrator and type `net start MongoDB`.\n",
    "<center>\n",
    "<img src=\"images/mongo_cmd.gif\" width=\"1080\" align=\"center\"/>\n",
    "</center>\n",
    "\n",
    "> If you encounter an error, MongoDB folder might not have been added to the PATH environment variable. Click <a href = 'https://dangphongvanthanh.wordpress.com/2017/06/12/add-mongos-bin-folder-to-the-path-environment-variable/' >here</a> for troubleshooting. Remember to add `\\` to the `....\\bin` when adding to PATH.\n",
    "\n",
    "> Some error could be fixed by adding the folder `data\\db`\n",
    "\n",
    "> Compatible `pymongo` version is 4.6.1. So, to avoid installing a noncompatible version of `pymongo` use `pip install --force-reinstall -v \"pymongo==4.6.1\"` \n",
    "\n",
    "Some useful commands to run on MongoDB shell\n",
    "- `help` : get the available shell commands\n",
    "- `show dbs` : show the currently available databases in MongoDB\n",
    "- `use <db_name>` : set current database to `<db_name>`\n",
    "- `db.createCollection(<collection_name>)` : create collection named `<collection_name>` in the database\n",
    "- after you have set your current database, you can insert documents into the database by running `db.<collection_name>.insert(<json_obj>)`\n",
    "- `show collections` : show the available collections in the current database\n",
    "\n",
    "> Instead of creating collection with `db.createCollection(<collection_name>)`, `db.<collection_name>.insert(<json_obj>)` will automatically create the collection with the document is added. \n",
    "\n",
    "### Exercise \n",
    "On MongoDB shell, create a database called `test_info` and insert the following JSON object as a document in the collection `Person` in the database.\n",
    "\n",
    ">```python \n",
    ">{\n",
    "> 'name':'John Lim',   \n",
    "> 'class': '18S01',   \n",
    "> 'hobbies': ['running','kayaking','gaming']   \n",
    ">}\n",
    ">```\n"
   ]
  },
  {
   "cell_type": "code",
   "execution_count": null,
   "metadata": {},
   "outputs": [],
   "source": [
    "#YOUR_CODE_HERE\n",
    "db.test_info.insert({'name':'John Lim','class': '18S01','hobbies': ['running','kayaking','gaming']})"
   ]
  },
  {
   "cell_type": "markdown",
   "metadata": {},
   "source": [
    "## 15.3.2 Interacting with MongoDB with `pymongo`\n",
    "\n",
    "Similar to relational databases, we need to know how to execute the important database operations (CRUD) with MongoDB as well. However, for MongoDB, we will skip on the MongoDB shell commands and go straight up to the commands in `pymongo`, which is a Python to interact with MongoDB databases (as warned earlier, keep the MongoDB running else you will encounter errors.)\n",
    "\n",
    "## 15.3.3 Connecting to MongoDB database with `pymongo` \n",
    "Roughly speaking, to work with the database,\n",
    "1. We first **establish connection** to the MongoDB server by creating `pymongo.MongoClient` object to `localhost` with the default port `27107`\n",
    "2. Access the database through the client.\n",
    "3. Access the collection through the database.\n",
    "4. Do your query, insertion, updating and deletion.\n",
    "\n",
    "### Example 26\n",
    "\n",
    "The code below illustrates the process of connecting to the database `test_info` and accessing the collection `Person` with `pymongo`."
   ]
  },
  {
   "cell_type": "code",
   "execution_count": 8,
   "metadata": {},
   "outputs": [
    {
     "name": "stdout",
     "output_type": "stream",
     "text": [
      "Connected successfully!!!\n",
      "[{'_id': ObjectId('620b1c144bb116337cc7392e'), 'name': 'John Lim', 'class': '18S01', 'hobbies': ['running', 'kayaking', 'gaming']}]\n",
      "{'_id': ObjectId('620b1c144bb116337cc7392e'), 'name': 'John Lim', 'class': '18S01', 'hobbies': ['running', 'kayaking', 'gaming']}\n"
     ]
    }
   ],
   "source": [
    "# We can actually do \n",
    "# import pymongo\n",
    "# but this means that at line 8, we'll have client = pymongo.Mongoclient('localhost', 27017)\n",
    "\n",
    "from pymongo import MongoClient \n",
    "\n",
    "try:\n",
    "    client = MongoClient('localhost', 27017) #localhost is your local computer address 127.0.0.1\n",
    "    print(\"Connected successfully!!!\")\n",
    "except:\n",
    "    print(\"Could not connect to MongoDB\")\n",
    "\n",
    "# client = MongoClient('localhost', 27017)\n",
    "\n",
    "db = client['test_info']\n",
    "\n",
    "coll = db['Person']\n",
    "\n",
    "# Note that for pymongo, we don't need to close the connection as it's done automatically for us. \n",
    "\n",
    "print(list(coll.find()))\n",
    "\n",
    "for i in coll.find():\n",
    "    print(i)"
   ]
  },
  {
   "cell_type": "markdown",
   "metadata": {},
   "source": [
    "# 15.4 CRUD operations with `pymongo` \n",
    "Unlike `sqlite` which do CRUD operations by passing SQL statements into the `execute` command, the CRUD operations with `pymongo` is done through various methods to the objects found in `pymongo`. Some of the methods act on  `pymongo.collection.Collection` objects and they are:\n",
    "- `insert_one()` : insert one document into a collection\n",
    "- `insert_many()` : insert more than one document into a collection\n",
    "- `find()` : to query documents from the collection\n",
    "- `update_one()` : to update a document in the collection\n",
    "- `update_many()` : to update more than one document in the collection\n",
    "\n",
    "## 15.4.1 Creating Database and Collection\n",
    "To create databases and collection in MongoDB with `pymongo` is a simple task. We just need to \n",
    "- connect to a **running** MongoDB server,\n",
    "- create a connection through `MongoClient` object\n",
    "- access the database through the connection object by treating it like a Python `dict` object\n",
    "- access the collection through the database object also by treating it like a Python `dict` object.\n",
    "\n",
    "So the boilerplate code is as such"
   ]
  },
  {
   "cell_type": "code",
   "execution_count": 40,
   "metadata": {},
   "outputs": [
    {
     "name": "stdout",
     "output_type": "stream",
     "text": [
      "Connected successfully!!!\n",
      "[{'_id': ObjectId('620b1fe87ce2d88427ea2ef0'), 'name': 'John Lim', 'class': '18S01', 'hobbies': ['running', 'kayaking', 'gaming']}, {'_id': ObjectId('620b20157ce2d88427ea2ef1'), 'name': 'Ben', 'age': '15', 'hobbies': ['running', 'reading', 'gaming']}, {'_id': ObjectId('620b20157ce2d88427ea2ef2'), 'name': 'Lim Bo', 'class': '18S01', 'hobbies': ['gaming']}, {'_id': ObjectId('620b21777ce2d88427ea2ef3'), 'name': 'Ben', 'age': '30', 'hobbies': ['running', 'reading']}, {'_id': ObjectId('620b21807ce2d88427ea2ef4'), 'name': 'Ben', 'age': '30', 'hobbies': ['running', 'reading']}, {'_id': ObjectId('620c58da7ce2d88427ea2ef6'), 'name': 'John Lim', 'class': '18S01', 'hobbies': ['running', 'kayaking', 'gaming']}, {'_id': ObjectId('620c58e27ce2d88427ea2ef8'), 'name': 'John Lim', 'class': '18S01', 'hobbies': ['running', 'kayaking', 'gaming']}]\n"
     ]
    }
   ],
   "source": [
    "from pymongo import MongoClient \n",
    "\n",
    "try:\n",
    "    client = MongoClient('localhost', 27017) #localhost is your local computer address 127.0.0.1\n",
    "    print(\"Connected successfully!!!\")\n",
    "except:\n",
    "    print(\"Could not connect to MongoDB\")\n",
    "\n",
    "db = client['test_info'] # where <DATABASE_NAME> should be replaced with appropriate string\n",
    "\n",
    "coll = db['Person']  \n",
    "\n",
    "coll.insert_one({'name':'John Lim','class': '18S01','hobbies': ['running','kayaking','gaming']})\n",
    "print(list(coll.find()))"
   ]
  },
  {
   "cell_type": "code",
   "execution_count": 20,
   "metadata": {},
   "outputs": [
    {
     "name": "stdout",
     "output_type": "stream",
     "text": [
      "[{'_id': ObjectId('620b1fe87ce2d88427ea2ef0'), 'name': 'John Lim', 'class': '18S01', 'hobbies': ['running', 'kayaking', 'gaming']}, {'_id': ObjectId('620b20157ce2d88427ea2ef1'), 'name': 'Ben', 'age': '15', 'hobbies': ['running', 'reading', 'gaming']}, {'_id': ObjectId('620b20157ce2d88427ea2ef2'), 'name': 'Lim Bo', 'class': '18S01', 'hobbies': ['gaming']}]\n"
     ]
    }
   ],
   "source": [
    "extra_person = [{\n",
    "    'name':'Ben',   \n",
    "    'age': '15',   \n",
    "    'hobbies': ['running','reading','gaming']   \n",
    "},{\n",
    "    'name':'Lim Bo',   \n",
    "    'class': '18S01',   \n",
    "    'hobbies': ['gaming']   \n",
    "}\n",
    "]\n",
    "\n",
    "for i in extra_person:\n",
    "    coll.insert_one(i)\n",
    "\n",
    "print(list(coll.find()))"
   ]
  },
  {
   "cell_type": "code",
   "execution_count": 42,
   "metadata": {},
   "outputs": [
    {
     "name": "stdout",
     "output_type": "stream",
     "text": [
      "[{'_id': ObjectId('620b1fe87ce2d88427ea2ef0'), 'name': 'John Lim', 'class': '18S01', 'hobbies': ['running', 'kayaking', 'gaming']}, {'_id': ObjectId('620b20157ce2d88427ea2ef1'), 'name': 'Ben', 'age': '15', 'hobbies': ['running', 'reading', 'gaming']}, {'_id': ObjectId('620b20157ce2d88427ea2ef2'), 'name': 'Lim Bo', 'class': '18S01', 'hobbies': ['gaming']}, {'_id': ObjectId('620b21777ce2d88427ea2ef3'), 'name': 'Ben', 'age': '30', 'hobbies': ['running', 'reading']}, {'_id': ObjectId('620b21807ce2d88427ea2ef4'), 'name': 'Ben', 'age': '30', 'hobbies': ['running', 'reading']}, {'_id': ObjectId('620c58da7ce2d88427ea2ef6'), 'name': 'John Lim', 'class': '18S01', 'hobbies': ['running', 'kayaking', 'gaming']}, {'_id': ObjectId('620c58e27ce2d88427ea2ef8'), 'name': 'John Lim', 'class': '18S01', 'hobbies': ['running', 'kayaking', 'gaming']}, {'_id': ObjectId('620c593a7ce2d88427ea2ef9'), 'name': 'Ben', 'age': '25', 'hobbies': ['running', 'reading']}]\n"
     ]
    }
   ],
   "source": [
    "coll.insert_one({\n",
    "    'name':'Ben',   \n",
    "    'age': '25',   \n",
    "    'hobbies': ['running','reading']   \n",
    "})\n",
    "\n",
    "print(list(coll.find()))"
   ]
  },
  {
   "cell_type": "markdown",
   "metadata": {},
   "source": [
    "## 15.4.2 Query Documents in a collection [READ]\n",
    "Querying for documents in collection `coll` is done through `find()` method of `pymongo.collection.Collection` object. It acts like `SELECT` statement for SQL. \n",
    "- when no parameters is passed into `find()`, it will return a `Cursor` object that contains **all** the documents in the collection. The syntax is \n",
    "> `<my_collection>.find()`\n",
    "- the interesting thing happens when you have specific attributes that you want to inspect from the collection and this is where things could get a little complicated. To do this, we pass `{<attribute_name_1>:<value_1>,{<attribute_name_2>:<value_2>/,....}` as an argument, where `...` represents more attributes to cover. Example:\n",
    "> `<my_collection>.find({'name':'TAN AH GAO', 'address' : 'KERBAU ROAD'})`\n",
    "- furthermore, we can even use comparison operators on attributes to further filter our result. The operators are\n",
    "\n",
    "<center>\n",
    "\n",
    "| **Comparison Operator** | **Description** | \n",
    "|-|-|\n",
    "| `$eq` | Matches values that are equal to the given value. | \n",
    "| `$gt` | Matches if values are greater than the given value. | \n",
    "| `$lt` | Matches if values are less than the given value. | \n",
    "| `$gte` | Matches if values are greater or equal to the given value. |\n",
    "| `$lte` | Matches if values are less or equal to the given value. |\n",
    "| `$in` | Matches any of the values in an array. |\n",
    "| `$ne` | Matches values that are not equal to the given value. |\n",
    "| `$nin` | Matches none of the values specified in an array. |\n",
    "\n",
    "</center>\n",
    "\n",
    "<br>\n",
    "\n",
    "In this case, we pass `{<attribute_name>:{<comparison_operator>:<value>}` as an argument to `find()` method. Example:\n",
    "> `<my_collection>.find({'name':'TAN AH GAO', 'age' : {'$lt':40}})`\n",
    "\n",
    "Also, we can query for attributes using the logical operators below as well. Similarly, we pass `{<attribute_name>:{<logical_operator>:<array_of_value/expression>}` as an argument to `find()` method.\n",
    "\n",
    "<center>\n",
    "\n",
    "| ** Logical Operator** | **Description** | \n",
    "|-|-|\n",
    "| `$and` | Joins query clauses with a logical `AND` returns all documents that match the conditions of both clauses. | \n",
    "| `$or ` | oins query clauses with a logical OR returns all documents that match the conditions of either clause. | \n",
    "| `$not ` | Inverts the effect of a query expression and returns documents that do not match the query expression. | \n",
    "| `$nor` | Joins query clauses with a logical NOR returns all documents that fail to match both clauses. | \n",
    "\n",
    "</center>\n",
    "\n",
    "You can head to <a href='https://docs.mongodb.com/manual/reference/operator/query/'>the official query operator docs</a> for more examples and operators. However, the ones mentioned above should suffice for most cases.\n",
    "\n",
    "### Exercise\n",
    "In the `Person` collection in the `test_info` database,\n",
    "\n",
    "0. print out all the documents in the collection,\n",
    "1. find the documents with `Ben` in its `name` field and print it out\n",
    "2. find the documents with `age` field having value greater than 20."
   ]
  },
  {
   "cell_type": "code",
   "execution_count": 45,
   "metadata": {},
   "outputs": [
    {
     "name": "stdout",
     "output_type": "stream",
     "text": [
      "[{'_id': ObjectId('620b21777ce2d88427ea2ef3'), 'name': 'Ben', 'age': '30', 'hobbies': ['running', 'reading']}, {'_id': ObjectId('620b21807ce2d88427ea2ef4'), 'name': 'Ben', 'age': '30', 'hobbies': ['running', 'reading']}]\n"
     ]
    }
   ],
   "source": [
    "#YOUR_CODE_HERE\n",
    "# print(list(coll.find()))\n",
    "\n",
    "print(list(coll.find({'name':'Ben','age':'30'})))"
   ]
  },
  {
   "cell_type": "markdown",
   "metadata": {},
   "source": [
    "## 15.4.3 Updating Documents in a collection [UPDATE]\n",
    "Assume `<myquery>` is JSON-like object (think Python `dict`) of the form `{<attribute_name_1>:<value_1>,<attribute_name_2>:<value_2>/,....}`. To update documents matching our requirements in `<myquery>` into a MongoDB database with `pymongo`, we\n",
    "1. Access the collection `coll` that you want to update document(s) in\n",
    "2. To:\n",
    "    - update one documents satisfying your query, use `coll.update_one(<my_query>,<my_values>)`, where `<my_values>={'$set':{<attribute_name_1>:<value_1>,<attribute_name_2>:<value_2>/,....}}`\n",
    "    > Take note on the format of `<my_values>`\n",
    "    - update all documents satisfying your query, use `coll.update_many(<my_query>,<my_values>)`.\n",
    "3. `update_one()` and `update_many()` methods accept a Boolean parameter `upsert` (default is `False`) which modify their behaviours a little bit. If `upsert=True` and the query does not match any documents in MongoDB, the method will perform an insertion of the document instead. Otherwise, if the query does not match any documents, no insertion of such records. This approach could be handy if you want to avoid using conditionals to handle such cases. \n",
    "\n",
    "### Exercise\n",
    "In the `Person` collection in the `test_info` database, update all the documents with `Ben` in its `name` field and set the `age` field for such documents to `20`."
   ]
  },
  {
   "cell_type": "code",
   "execution_count": 51,
   "metadata": {},
   "outputs": [
    {
     "name": "stdout",
     "output_type": "stream",
     "text": [
      "[{'_id': ObjectId('620b20157ce2d88427ea2ef1'), 'name': 'Ben', 'age': '30', 'hobbies': ['running', 'reading', 'gaming']}, {'_id': ObjectId('620b21807ce2d88427ea2ef4'), 'name': 'Ben', 'age': '30', 'hobbies': ['running', 'reading']}, {'_id': ObjectId('620c593a7ce2d88427ea2ef9'), 'name': 'Ben', 'age': '30', 'hobbies': ['running', 'reading']}]\n"
     ]
    }
   ],
   "source": [
    "#YOUR_CODE_HERE\n",
    "# print(list(coll.find()))\n",
    "\n",
    "my_query = {'name':'Ben'}\n",
    "my_update = {'$set':{'age':'30'}}\n",
    "\n",
    "coll.update_many(my_query,my_update)\n",
    "\n",
    "print(list(coll.find({'name':'Ben'})))"
   ]
  },
  {
   "cell_type": "markdown",
   "metadata": {},
   "source": [
    "## 15.4.4 Delete Documents in a collection [DELETE]\n",
    "Assume `<myquery>` is JSON-like object (think Python `dict`) of the form `{<attribute_name_1>:<value_1>,<attribute_name_2>:<value_2>/,....}`. To delete documents matching our requirements in `<myquery>`, we\n",
    "1. Access the collection `coll` that you want to delete document(s) in\n",
    "2. To:\n",
    "    - delete one document satisfying your query, we use `coll.delete_one(<my_query>)`\n",
    "    - delete all documents satisfying your query, we use `coll.delete_many(<my_query>)`\n",
    "    - delete all documents in the collection, we pass empty query `{}` in the `coll.delete_many()` method.\n",
    "\n",
    "### Exercise\n",
    "In the `Person` collection in the `test_info` database, \n",
    "1. delete all the documents with `Ben` in its `name` field and print the database documents,\n",
    "2. delete all documents from `test_info` database and verify that the database is empty."
   ]
  },
  {
   "cell_type": "code",
   "execution_count": 53,
   "metadata": {},
   "outputs": [
    {
     "name": "stdout",
     "output_type": "stream",
     "text": [
      "[{'_id': ObjectId('620b1fe87ce2d88427ea2ef0'), 'name': 'John Lim', 'class': '18S01', 'hobbies': ['running', 'kayaking', 'gaming']}, {'_id': ObjectId('620b20157ce2d88427ea2ef2'), 'name': 'Lim Bo', 'class': '18S01', 'hobbies': ['gaming']}, {'_id': ObjectId('620c58da7ce2d88427ea2ef6'), 'name': 'John Lim', 'class': '18S01', 'hobbies': ['running', 'kayaking', 'gaming']}, {'_id': ObjectId('620c58e27ce2d88427ea2ef8'), 'name': 'John Lim', 'class': '18S01', 'hobbies': ['running', 'kayaking', 'gaming']}]\n"
     ]
    }
   ],
   "source": [
    "#YOUR_CODE_HERE\n",
    "my_query = {'name':'Ben','age':'30'}\n",
    "\n",
    "coll.delete_many(my_query)\n",
    "\n",
    "print(list(coll.find()))"
   ]
  },
  {
   "cell_type": "code",
   "execution_count": 54,
   "metadata": {},
   "outputs": [
    {
     "name": "stdout",
     "output_type": "stream",
     "text": [
      "[]\n"
     ]
    }
   ],
   "source": [
    "coll.delete_many({})\n",
    "\n",
    "print(list(coll.find()))"
   ]
  },
  {
   "cell_type": "markdown",
   "metadata": {},
   "source": [
    "# 15.5 Situations to use SQL or NoSQL\n",
    "\n",
    "The choice of whether to use a SQL or NoSQL database depends on the type of data being stored as well as the nature of tasks that the database is required to perform.\n",
    "\n",
    "SQL databases should be used if:\n",
    "- The data being stored has a fixed schema.\n",
    "- Complex and varied queries will be frequently performed.\n",
    "- The atomicity, consistency,isolation and durability (ACID) properties are critical to the database.\n",
    "- There will be a high number of simultaneous transactions.\n",
    "\n",
    "NoSQL databases should be used if:\n",
    "- The data being stored has a dynamic schema, (i.e., unstructured data with flexible data types).\n",
    "- Data storage needs to be performed quickly.\n",
    "- There will be an extremely large amount of data (i.e., Big Data).\n"
   ]
  },
  {
   "cell_type": "markdown",
   "metadata": {},
   "source": [
    "# 15.6 Advantages of NoSQL Databases over Relational Databases\n",
    "\n",
    "- Relational databases have a predefined schema that is difficult to change. Even if you wish to add a field to a small number of records, you still need to include the field for the entire table. Therefore, it can be difficult to support the processing of unstructured data using relational databases compared to NoSQL databases.\n",
    "- Unlike NoSQL databases, relational databases do not usually support hierarchical data storage, where less frequently-used data is moved to cheaper, slower storage devices. This means that the cost of storing data in a relational database is more expensive than storing the same amount of data in a NoSQL database.\n",
    "- Relational databases are mainly vertically scalable while NoSQL databases are mainly horizontally scalable. Vertically scalable means that improving the performance of a relational database server usually requires upgrading an existing server with faster processors and more memory. Such high-performance components can be expensive and upgrades are limited by the capacity of a single machine. On the other hand, horizontally scalable means that the performance of a NoSQL database can be improved by simply increasing the number of servers. This is relatively cheaper as mass-produced average-performance computers are easily available at low prices.\n",
    "- Relational databases are stored in a server, which makes the database unavailable when the server fails. NoSQL databases are designed to take advantage of multiple servers so that if one server fails, the other servers can continue to support applications."
   ]
  },
  {
   "cell_type": "markdown",
   "metadata": {},
   "source": [
    "# Appendix \n",
    "\n",
    "## A. Loading json files with `json` Module\n",
    "Sometimes the items are provided in a file with `.json` extension and you are asked to retrieve them from the file. Instead of manually handling the import the items using standard file read, we can actually import the built-in `json` module in python and use the `.load()` method to put all of them in a list, i.e. by doing this, we get a list of dictionary objects in Python.\n",
    "\n",
    "The boilerplate code is given below."
   ]
  },
  {
   "cell_type": "code",
   "execution_count": null,
   "metadata": {},
   "outputs": [],
   "source": [
    "import json\n",
    "\n",
    "with open('<file_name>.JSON') as f:\n",
    "    <items_list> = json.load(f)"
   ]
  },
  {
   "cell_type": "markdown",
   "metadata": {},
   "source": [
    "## B. MongoDB VSCode Extension\n",
    "If you are using VSCode, you can also install MongoDB VSCode Extension <a href = 'https://marketplace.visualstudio.com/items?itemName=mongodb.mongodb-vscode'>here</a>. For our purpose it helps you to:\n",
    "- Navigate your databases, collections, and read-only views\n",
    "- See the documents in your collections\n",
    "- Edit documents and save changes to the database\n",
    "- Get a quick overview of your schema and your indexes"
   ]
  }
 ],
 "metadata": {
  "interpreter": {
   "hash": "dcacb0086e9a4f4eabd41c33bf4faac5ea0a3337ed3f5eff0680afa930572c04"
  },
  "kernelspec": {
   "display_name": "Python 3.9.1 64-bit",
   "name": "python3"
  },
  "language_info": {
   "codemirror_mode": {
    "name": "ipython",
    "version": 3
   },
   "file_extension": ".py",
   "mimetype": "text/x-python",
   "name": "python",
   "nbconvert_exporter": "python",
   "pygments_lexer": "ipython3",
   "version": "3.9.2"
  },
  "orig_nbformat": 2
 },
 "nbformat": 4,
 "nbformat_minor": 2
}
